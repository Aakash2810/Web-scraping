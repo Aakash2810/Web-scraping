{
 "cells": [
  {
   "cell_type": "code",
   "execution_count": 1,
   "metadata": {},
   "outputs": [],
   "source": [
    "file=open(r'data\\final1.csv','r')\n",
    "content=file.read()\n",
    "file.close()"
   ]
  },
  {
   "cell_type": "code",
   "execution_count": 2,
   "metadata": {},
   "outputs": [],
   "source": [
    "asins=content.split('\\n')\n",
    "asins=asins[1:-2]\n",
    "final=[]\n",
    "for i in asins:\n",
    "    if i not in final:\n",
    "        final.append(i)\n",
    "asins=final"
   ]
  },
  {
   "cell_type": "code",
   "execution_count": 3,
   "metadata": {},
   "outputs": [],
   "source": [
    "import requests\n",
    "from bs4 import BeautifulSoup\n",
    "from fake_useragent import UserAgent"
   ]
  },
  {
   "cell_type": "code",
   "execution_count": 21,
   "metadata": {},
   "outputs": [
    {
     "name": "stderr",
     "output_type": "stream",
     "text": [
      "C:\\Users\\Akash Verma\\Anaconda3\\lib\\site-packages\\bs4\\__init__.py:181: UserWarning: No parser was explicitly specified, so I'm using the best available HTML parser for this system (\"lxml\"). This usually isn't a problem, but if you run this code on another system, or in a different virtual environment, it may use a different parser and behave differently.\n",
      "\n",
      "The code that caused this warning is on line 193 of the file C:\\Users\\Akash Verma\\Anaconda3\\lib\\runpy.py. To get rid of this warning, change code that looks like this:\n",
      "\n",
      " BeautifulSoup(YOUR_MARKUP})\n",
      "\n",
      "to this:\n",
      "\n",
      " BeautifulSoup(YOUR_MARKUP, \"lxml\")\n",
      "\n",
      "  markup_type=markup_type))\n"
     ]
    },
    {
     "name": "stdout",
     "output_type": "stream",
     "text": [
      "The Fall of Gondolin\n",
      "Publisher :  Houghton Mifflin Harcourt; First Edition edition (August 30, 2018)\n",
      "Lang :  English\n",
      "Kindle/Audible Audiobook/Unabridged/Hardcover/Paperback\n",
      "Cabin Fever (Diary of a Wimpy Kid, Book 6)\n",
      "Publisher :  Amulet Books; 1 edition (November 15, 2011)\n",
      "Lang :  English\n",
      "Kindle/Audible Audiobook/Unabridged/Hardcover/Paperback/Mass Market Paperback/MP3 CD/Audiobook/MP3 Audio/Unabridged\n",
      "Diary of a Wimpy Kid: The Long Haul\n",
      "Publisher :  Amulet Books; 1st edition (November 4, 2014)\n",
      "Lang :  English\n",
      "Kindle/Audible Audiobook/Unabridged/Hardcover/Paperback/Audio CD/Audiobook/CD/Unabridged/Unknown Binding\n",
      "Old School (Diary of a Wimpy Kid #10)\n",
      "Publisher :  Amulet Books; 2nd edition (November 3, 2015)\n",
      "Lang :  English\n",
      "Kindle/Audible Audiobook/Unabridged/Hardcover/Paperback/Audio CD/Audiobook/CD/Unabridged\n",
      "The Getaway\n",
      "Publisher :  Amulet Books (November 7, 2017)\n",
      "Lang :  English\n",
      "Kindle/Audible Audiobook/Unabridged/Hardcover/Paperback/Mass Market Paperback/Audio CD/Audiobook/CD/Unabridged\n",
      "The Third Wheel (Diary of a Wimpy Kid, Book 7)\n",
      "Publisher :  Amulet Books; 1st Edition edition (November 13, 2012)\n",
      "Lang :  English\n",
      "Kindle/Audible Audiobook/Unabridged/Hardcover/Paperback/Audio/Cassette/Audiobook/Unknown Binding\n",
      "Together: Our Community Cookbook\n",
      "Publisher :  Clarkson Potter (September 25, 2018)\n",
      "Lang :  English\n",
      "Hardcover\n",
      "A Summer in the Country\n",
      "Publisher :  Thomas Dunne Books; 1 edition (May 1, 2003)\n",
      "Lang :  English\n",
      "Hardcover/Mass Market Paperback\n",
      "The Way We Were: A Novel\n",
      "Publisher :  Thomas Dunne Books; 1 edition (April 14, 2009)\n",
      "Lang :  English\n",
      "Kindle/Audible Audiobook/Unabridged/Hardcover/Paperback/Mass Market Paperback/Audio CD/Audiobook/MP3 Audio/Unabridged\n"
     ]
    }
   ],
   "source": [
    "user=UserAgent()\n",
    "header={'User-Agent':user.chrome}\n",
    "for i in asins:\n",
    "    url='https://www.amazon.com/dp/'+i\n",
    "    response=requests.get(url,headers=header)\n",
    "    if(response.status_code)==200:\n",
    "        soup=BeautifulSoup(response.content)\n",
    "        title=soup.find('span',{'class':'a-size-large'})\n",
    "        print(title.text)\n",
    "        book_details=soup.find('div',{'class':'content'})\n",
    "        content=book_details.find_all('li')\n",
    "        data=[]\n",
    "        for i in range(0,8):\n",
    "            temp=content[i].text.split(':')\n",
    "            try:\n",
    "                temp[1]=temp[1].strip()\n",
    "            except:\n",
    "                pass\n",
    "            data.append(temp)\n",
    "        data=dict(data)\n",
    "        publisher=data['Publisher']\n",
    "        lang=data['Language']\n",
    "        print(\"Publisher : \",publisher)\n",
    "        print(\"Lang : \",lang)\n",
    "\n",
    "        format_table=soup.find('div',{'id':'formats'})\n",
    "        formats=format_table.find_all('span',{'class':'a-size-small a-color-base'})\n",
    "        all_formats=[]\n",
    "        for i in range(0,len(formats)):\n",
    "            all_formats.append(formats[i].text)\n",
    "        frmt=\"/\".join(i for i in all_formats)\n",
    "        frmt=frmt.replace(', ','/')\n",
    "        print(frmt)\n",
    "        title1=title.text\n",
    "        title1=title1.replace(',','/')\n",
    "        publisher=publisher.replace(',','/')\n",
    "        file=open(r'data\\result.csv','a')\n",
    "        record=title1+','+publisher+','+lang+','+frmt+','+str(response.status_code)\n",
    "        file.write(record+'\\n')\n",
    "        file.close()\n",
    "    else:\n",
    "        title1='-'\n",
    "        publisher='-'\n",
    "        lang='-'\n",
    "        frmt='-'\n",
    "        file=open(r'data\\result.csv','a')\n",
    "        record=title1+','+publisher+','+lang+','+frmt+','+str(response.status_code)\n",
    "        file.write(record+'\\n')\n",
    "        file.close()"
   ]
  },
  {
   "cell_type": "code",
   "execution_count": null,
   "metadata": {},
   "outputs": [],
   "source": []
  }
 ],
 "metadata": {
  "kernelspec": {
   "display_name": "Python 3",
   "language": "python",
   "name": "python3"
  },
  "language_info": {
   "codemirror_mode": {
    "name": "ipython",
    "version": 3
   },
   "file_extension": ".py",
   "mimetype": "text/x-python",
   "name": "python",
   "nbconvert_exporter": "python",
   "pygments_lexer": "ipython3",
   "version": "3.6.5"
  }
 },
 "nbformat": 4,
 "nbformat_minor": 2
}
